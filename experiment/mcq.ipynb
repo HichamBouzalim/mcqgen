{
 "cells": [
  {
   "cell_type": "code",
   "execution_count": 4,
   "id": "ddf427a2",
   "metadata": {},
   "outputs": [
    {
     "name": "stdout",
     "output_type": "stream",
     "text": [
      "Collecting python-docx\n",
      "  Using cached python_docx-1.2.0-py3-none-any.whl.metadata (2.0 kB)\n",
      "Collecting lxml>=3.1.0 (from python-docx)\n",
      "  Using cached lxml-6.0.0-cp311-cp311-win_amd64.whl.metadata (6.8 kB)\n",
      "Requirement already satisfied: typing_extensions>=4.9.0 in c:\\users\\sniper\\mcqgen\\env\\lib\\site-packages (from python-docx) (4.14.1)\n",
      "Using cached python_docx-1.2.0-py3-none-any.whl (252 kB)\n",
      "Using cached lxml-6.0.0-cp311-cp311-win_amd64.whl (4.0 MB)\n",
      "Installing collected packages: lxml, python-docx\n",
      "\n",
      "   ---------------------------------------- 0/2 [lxml]\n",
      "   ---------------------------------------- 0/2 [lxml]\n",
      "   ---------------------------------------- 0/2 [lxml]\n",
      "   -------------------- ------------------- 1/2 [python-docx]\n",
      "   -------------------- ------------------- 1/2 [python-docx]\n",
      "   -------------------- ------------------- 1/2 [python-docx]\n",
      "   -------------------- ------------------- 1/2 [python-docx]\n",
      "   -------------------- ------------------- 1/2 [python-docx]\n",
      "   -------------------- ------------------- 1/2 [python-docx]\n",
      "   -------------------- ------------------- 1/2 [python-docx]\n",
      "   ---------------------------------------- 2/2 [python-docx]\n",
      "\n",
      "Successfully installed lxml-6.0.0 python-docx-1.2.0\n"
     ]
    }
   ],
   "source": [
    "!pip install python-docx"
   ]
  },
  {
   "cell_type": "code",
   "execution_count": 13,
   "id": "43651ca1",
   "metadata": {},
   "outputs": [],
   "source": [
    "from langchain.llms import OpenAI\n",
    "from langchain.prompts import PromptTemplate\n",
    "from langchain.chains import LLMChain\n",
    "from langchain.chains import SequentialChain\n",
    "from langchain.callbacks import get_openai_callback\n",
    "from langchain.chat_models import ChatOpenAI\n",
    "\n",
    "import os\n",
    "import json\n",
    "import pandas as pd\n",
    "import traceback\n",
    "import PyPDF2\n"
   ]
  },
  {
   "cell_type": "code",
   "execution_count": 14,
   "id": "30018985",
   "metadata": {},
   "outputs": [
    {
     "data": {
      "text/plain": [
       "True"
      ]
     },
     "execution_count": 14,
     "metadata": {},
     "output_type": "execute_result"
    }
   ],
   "source": [
    "from dotenv import load_dotenv\n",
    "\n",
    "load_dotenv()  # take environment variables from .env."
   ]
  },
  {
   "cell_type": "code",
   "execution_count": 15,
   "id": "47995fd1",
   "metadata": {},
   "outputs": [],
   "source": [
    "KEY=os.getenv(\"OPENAI_API_KEY\")"
   ]
  },
  {
   "cell_type": "code",
   "execution_count": null,
   "id": "723861be",
   "metadata": {},
   "outputs": [],
   "source": [
    "print(KEY)"
   ]
  },
  {
   "cell_type": "code",
   "execution_count": 16,
   "id": "c6185c30",
   "metadata": {},
   "outputs": [
    {
     "name": "stderr",
     "output_type": "stream",
     "text": [
      "C:\\Users\\Sniper\\AppData\\Local\\Temp\\ipykernel_6048\\1961887400.py:1: LangChainDeprecationWarning: The class `ChatOpenAI` was deprecated in LangChain 0.0.10 and will be removed in 1.0. An updated version of the class exists in the :class:`~langchain-openai package and should be used instead. To use it run `pip install -U :class:`~langchain-openai` and import as `from :class:`~langchain_openai import ChatOpenAI``.\n",
      "  llm=ChatOpenAI(openai_api_key=KEY,model_name=\"gpt-3.5-turbo\", temperature=0.5)\n"
     ]
    }
   ],
   "source": [
    "llm=ChatOpenAI(openai_api_key=KEY,model_name=\"gpt-3.5-turbo\", temperature=0.5)"
   ]
  },
  {
   "cell_type": "code",
   "execution_count": 17,
   "id": "fb8a5e35",
   "metadata": {},
   "outputs": [],
   "source": [
    "TEMPLATE=\"\"\"\n",
    "Text:{text}\n",
    "You are an expert MCQ maker. Given the above text, it is your job to \\\n",
    "create a quiz  of {number} multiple choice questions for {subject} students in {tone} tone. \n",
    "Make sure the questions are not repeated and check all the questions to be conforming the text as well.\n",
    "Make sure to format your response like  RESPONSE_JSON below  and use it as a guide. \\\n",
    "Ensure to make {number} MCQs\n",
    "### RESPONSE_JSON\n",
    "{response_json}\n",
    "\n",
    "\"\"\""
   ]
  },
  {
   "cell_type": "code",
   "execution_count": 18,
   "id": "18d49219",
   "metadata": {},
   "outputs": [],
   "source": [
    "RESPONSE_JSON = {\n",
    "    \"1\": {\n",
    "        \"mcq\": \"multiple choice question\",\n",
    "        \"options\": {\n",
    "            \"a\": \"choice here\",\n",
    "            \"b\": \"choice here\",\n",
    "            \"c\": \"choice here\",\n",
    "            \"d\": \"choice here\",\n",
    "        },\n",
    "        \"correct\": \"correct answer\",\n",
    "    },\n",
    "    \"2\": {\n",
    "        \"mcq\": \"multiple choice question\",\n",
    "        \"options\": {\n",
    "            \"a\": \"choice here\",\n",
    "            \"b\": \"choice here\",\n",
    "            \"c\": \"choice here\",\n",
    "            \"d\": \"choice here\",\n",
    "        },\n",
    "        \"correct\": \"correct answer\",\n",
    "    },\n",
    "    \"3\": {\n",
    "        \"mcq\": \"multiple choice question\",\n",
    "        \"options\": {\n",
    "            \"a\": \"choice here\",\n",
    "            \"b\": \"choice here\",\n",
    "            \"c\": \"choice here\",\n",
    "            \"d\": \"choice here\",\n",
    "        },\n",
    "        \"correct\": \"correct answer\",\n",
    "    },\n",
    "}"
   ]
  },
  {
   "cell_type": "code",
   "execution_count": 19,
   "id": "8a88e666",
   "metadata": {},
   "outputs": [],
   "source": [
    "quiz_generation_prompt = PromptTemplate(\n",
    "    input_variables=[\"text\", \"number\", \"subject\", \"tone\", \"response_json\"],\n",
    "    template=TEMPLATE\n",
    "    )"
   ]
  },
  {
   "cell_type": "code",
   "execution_count": 20,
   "id": "9bdd17ec",
   "metadata": {},
   "outputs": [
    {
     "name": "stderr",
     "output_type": "stream",
     "text": [
      "C:\\Users\\Sniper\\AppData\\Local\\Temp\\ipykernel_6048\\2669661367.py:1: LangChainDeprecationWarning: The class `LLMChain` was deprecated in LangChain 0.1.17 and will be removed in 1.0. Use :meth:`~RunnableSequence, e.g., `prompt | llm`` instead.\n",
      "  quiz_chain=LLMChain(llm=llm, prompt=quiz_generation_prompt, output_key=\"quiz\", verbose=True)\n"
     ]
    }
   ],
   "source": [
    "quiz_chain=LLMChain(llm=llm, prompt=quiz_generation_prompt, output_key=\"quiz\", verbose=True)"
   ]
  },
  {
   "cell_type": "code",
   "execution_count": 21,
   "id": "494a646c",
   "metadata": {},
   "outputs": [],
   "source": [
    "TEMPLATE2=\"\"\"\n",
    "You are an expert english grammarian and writer. Given a Multiple Choice Quiz for {subject} students.\\\n",
    "You need to evaluate the complexity of the question and give a complete analysis of the quiz. Only use at max 50 words for complexity analysis. \n",
    "if the quiz is not at per with the cognitive and analytical abilities of the students,\\\n",
    "update the quiz questions which needs to be changed and change the tone such that it perfectly fits the student abilities\n",
    "Quiz_MCQs:\n",
    "{quiz}\n",
    "\n",
    "Check from an expert English Writer of the above quiz:\n",
    "\"\"\""
   ]
  },
  {
   "cell_type": "code",
   "execution_count": 22,
   "id": "3fab3357",
   "metadata": {},
   "outputs": [],
   "source": [
    "quiz_evaluation_prompt=PromptTemplate(input_variables=[\"subject\", \"quiz\"], template=TEMPLATE)\n"
   ]
  },
  {
   "cell_type": "code",
   "execution_count": 23,
   "id": "3ef656b8",
   "metadata": {},
   "outputs": [],
   "source": [
    "review_chain=LLMChain(llm=llm, prompt=quiz_evaluation_prompt, output_key=\"review\", verbose=True)\n"
   ]
  },
  {
   "cell_type": "code",
   "execution_count": 24,
   "id": "76b4a358",
   "metadata": {},
   "outputs": [],
   "source": [
    "generate_evaluate_chain=SequentialChain(chains=[quiz_chain, review_chain], input_variables=[\"text\", \"number\", \"subject\", \"tone\", \"response_json\"],\n",
    "                                        output_variables=[\"quiz\", \"review\"], verbose=True,)"
   ]
  },
  {
   "cell_type": "code",
   "execution_count": 25,
   "id": "f2845571",
   "metadata": {},
   "outputs": [],
   "source": [
    "file_path=r\"C:\\Users\\Sniper\\mcqgen\\~$data.docx\""
   ]
  },
  {
   "cell_type": "code",
   "execution_count": null,
   "id": "6ddc62c7",
   "metadata": {},
   "outputs": [
    {
     "ename": "FileNotFoundError",
     "evalue": "[Errno 2] No such file or directory: 'C:\\\\Users\\\\Sniper\\\\mcqgen\\\\~$data.docx'",
     "output_type": "error",
     "traceback": [
      "\u001b[31m---------------------------------------------------------------------------\u001b[39m",
      "\u001b[31mFileNotFoundError\u001b[39m                         Traceback (most recent call last)",
      "\u001b[36mCell\u001b[39m\u001b[36m \u001b[39m\u001b[32mIn[26]\u001b[39m\u001b[32m, line 1\u001b[39m\n\u001b[32m----> \u001b[39m\u001b[32m1\u001b[39m \u001b[38;5;28;01mwith\u001b[39;00m \u001b[38;5;28;43mopen\u001b[39;49m\u001b[43m(\u001b[49m\u001b[43mfile_path\u001b[49m\u001b[43m,\u001b[49m\u001b[43m \u001b[49m\u001b[33;43m'\u001b[39;49m\u001b[33;43mr\u001b[39;49m\u001b[33;43m'\u001b[39;49m\u001b[43m)\u001b[49m \u001b[38;5;28;01mas\u001b[39;00m file:\n\u001b[32m      2\u001b[39m     TEXT = file.read()\n",
      "\u001b[36mFile \u001b[39m\u001b[32mc:\\Users\\Sniper\\mcqgen\\env\\Lib\\site-packages\\IPython\\core\\interactiveshell.py:343\u001b[39m, in \u001b[36m_modified_open\u001b[39m\u001b[34m(file, *args, **kwargs)\u001b[39m\n\u001b[32m    336\u001b[39m \u001b[38;5;28;01mif\u001b[39;00m file \u001b[38;5;129;01min\u001b[39;00m {\u001b[32m0\u001b[39m, \u001b[32m1\u001b[39m, \u001b[32m2\u001b[39m}:\n\u001b[32m    337\u001b[39m     \u001b[38;5;28;01mraise\u001b[39;00m \u001b[38;5;167;01mValueError\u001b[39;00m(\n\u001b[32m    338\u001b[39m         \u001b[33mf\u001b[39m\u001b[33m\"\u001b[39m\u001b[33mIPython won\u001b[39m\u001b[33m'\u001b[39m\u001b[33mt let you open fd=\u001b[39m\u001b[38;5;132;01m{\u001b[39;00mfile\u001b[38;5;132;01m}\u001b[39;00m\u001b[33m by default \u001b[39m\u001b[33m\"\u001b[39m\n\u001b[32m    339\u001b[39m         \u001b[33m\"\u001b[39m\u001b[33mas it is likely to crash IPython. If you know what you are doing, \u001b[39m\u001b[33m\"\u001b[39m\n\u001b[32m    340\u001b[39m         \u001b[33m\"\u001b[39m\u001b[33myou can use builtins\u001b[39m\u001b[33m'\u001b[39m\u001b[33m open.\u001b[39m\u001b[33m\"\u001b[39m\n\u001b[32m    341\u001b[39m     )\n\u001b[32m--> \u001b[39m\u001b[32m343\u001b[39m \u001b[38;5;28;01mreturn\u001b[39;00m \u001b[43mio_open\u001b[49m\u001b[43m(\u001b[49m\u001b[43mfile\u001b[49m\u001b[43m,\u001b[49m\u001b[43m \u001b[49m\u001b[43m*\u001b[49m\u001b[43margs\u001b[49m\u001b[43m,\u001b[49m\u001b[43m \u001b[49m\u001b[43m*\u001b[49m\u001b[43m*\u001b[49m\u001b[43mkwargs\u001b[49m\u001b[43m)\u001b[49m\n",
      "\u001b[31mFileNotFoundError\u001b[39m: [Errno 2] No such file or directory: 'C:\\\\Users\\\\Sniper\\\\mcqgen\\\\~$data.docx'"
     ]
    }
   ],
   "source": [
    "#with open(file_path, 'r') as file:\n",
    "#    TEXT = file.read()"
   ]
  },
  {
   "cell_type": "code",
   "execution_count": 27,
   "id": "aa067821",
   "metadata": {},
   "outputs": [
    {
     "name": "stdout",
     "output_type": "stream",
     "text": [
      "Generative Künstliche Intelligenz – Eine Revolution der Kreativität\n",
      "Einführung\n",
      "Generative Künstliche Intelligenz (KI) ist eine der aufregendsten und dynamischsten Entwicklungen im Bereich der künstlichen Intelligenz. Im Gegensatz zu klassischen KI-Systemen, die vor allem darauf ausgelegt sind, bestehende Informationen zu analysieren, zu erkennen oder vorherzusagen, kann generative KI eigenständig neue Inhalte erzeugen. Diese Inhalte können Texte, Bilder, Musik, Videos oder sogar komplexe 3D-Modelle sein. Die Fähigkeit, kreativ „Neues“ zu schaffen, hat das Potenzial, zahlreiche Branchen grundlegend zu verändern und neue Möglichkeiten in Wissenschaft, Kunst, Unterhaltung und Wirtschaft zu eröffnen.\n",
      "Was ist generative KI?\n",
      "Generative KI bezeichnet Algorithmen und Modelle, die aus einer großen Menge an Trainingsdaten lernen, um daraufhin eigenständig neue Daten zu produzieren, die den gelernten Mustern ähneln. Dabei handelt es sich nicht um reine Kopien, sondern um einzigartige Kreationen, die auf den statistischen Wahrscheinlichkeiten basieren, welche das Modell während des Trainings erlernt hat.\n",
      "Ein klassisches Beispiel für generative KI sind sogenannte Generative Adversarial Networks (GANs), die zwei neuronale Netzwerke gegeneinander antreten lassen: Ein Generator erzeugt neue Daten, während ein Diskriminator versucht zu erkennen, ob diese Daten echt oder vom Generator künstlich erzeugt sind. Durch diesen Wettbewerb verbessern sich beide Netzwerke stetig, was zu erstaunlich realistischen Ergebnissen führt.\n",
      "Neben GANs gibt es auch Modelle wie Transformer-basierte neuronale Netzwerke (z.B. GPT von OpenAI), die vor allem bei der Textgenerierung große Fortschritte erzielen. Sie basieren auf der Fähigkeit, große Textmengen zu verarbeiten und komplexe sprachliche Zusammenhänge zu verstehen und nachzubilden.\n",
      "Anwendungsgebiete der generativen KI\n",
      "1. Textgenerierung\n",
      "Sprachmodelle wie GPT-3 und GPT-4 können menschenähnliche Texte verfassen, die in vielen Bereichen Anwendung finden: von automatisierten Chatbots und virtuellen Assistenten bis hin zu kreativen Texten, wissenschaftlichen Arbeiten oder journalistischen Berichten. Unternehmen nutzen generative KI, um Inhalte für Marketing, Kundenservice und sogar Programmierung zu erzeugen.\n",
      "2. Bild- und Videogenerierung\n",
      "Generative KI kann realistische Bilder erstellen oder bestehende verändern. Tools wie DALL·E, Midjourney oder Stable Diffusion können aus Textbeschreibungen detailreiche Illustrationen oder Fotorealistische Bilder generieren. Das ermöglicht neue Formen der visuellen Gestaltung, beispielsweise in der Werbung, im Design oder bei der Erstellung von Kunstwerken. Auch in der Film- und Spieleindustrie wird generative KI eingesetzt, um virtuelle Welten und Charaktere zu erschaffen.\n",
      "3. Musik- und Audioproduktion\n",
      "KI-Modelle können neue Musikstücke komponieren oder bestehende Stücke analysieren und erweitern. Das eröffnet Möglichkeiten für Musiker und Produzenten, kreative Prozesse zu beschleunigen oder neue Sounds zu entdecken. Ebenso können Sprachsynthese-Modelle Stimmen generieren, die in Hörbüchern, Podcasts oder interaktiven Anwendungen genutzt werden.\n",
      "4. Wissenschaft und Forschung\n",
      "Generative KI unterstützt die Simulation komplexer Systeme und die Erstellung neuer Moleküle für die Medikamentenentwicklung. Durch die schnelle Generierung von Hypothesen oder Visualisierungen kann die Forschung effizienter und innovativer gestaltet werden.\n",
      "Chancen und Vorteile\n",
      "Generative KI eröffnet zahlreiche Chancen:\n",
      "Effizienzsteigerung: Automatisierte Texterstellung, Design oder Datenanalyse sparen Zeit und Kosten.\n",
      "Kreative Unterstützung: Künstler, Designer und Kreative erhalten neue Werkzeuge, die ihre Arbeit inspirieren und erleichtern.\n",
      "Individualisierung: Inhalte können genau auf individuelle Bedürfnisse zugeschnitten werden, beispielsweise personalisierte Werbung oder Lernmaterialien.\n",
      "Innovation: Neue Produkte und Dienstleistungen können durch KI-basierte Kreativität entwickelt werden, die vorher nicht denkbar waren.\n",
      "Herausforderungen und Risiken\n",
      "Trotz der vielen Vorteile bringt generative KI auch Herausforderungen mit sich:\n",
      "Qualität und Kontrolle: Nicht alle generierten Inhalte sind fehlerfrei oder sinnvoll. Menschliche Überprüfung bleibt notwendig.\n",
      "Missbrauchspotenzial: KI kann genutzt werden, um Fake News, Deepfakes oder betrügerische Inhalte zu erzeugen.\n",
      "Ethik und Urheberrecht: Die Frage, wem die generierten Werke gehören und wie geistiges Eigentum geschützt wird, ist komplex.\n",
      "Bias und Diskriminierung: Wenn die Trainingsdaten Vorurteile enthalten, reproduziert die KI diese in den generierten Inhalten.\n",
      "Zukunftsperspektiven\n",
      "Die Entwicklung der generativen KI steht erst am Anfang. Künftige Modelle werden immer leistungsfähiger, flexibler und effizienter. Durch Fortschritte in der Hardware, der Algorithmen und der Datenverfügbarkeit wird die KI noch besser darin, kreative und sinnvolle Inhalte zu erzeugen.\n",
      "Dabei wird der menschliche Faktor weiterhin eine wichtige Rolle spielen: KI wird eher als Partner in kreativen Prozessen dienen als als Ersatz. In Bereichen wie Bildung, Gesundheitswesen, Kunst und Unterhaltung wird die Zusammenarbeit von Mensch und Maschine neue Horizonte öffnen.\n",
      "Fazit\n",
      "Generative Künstliche Intelligenz ist eine transformative Technologie, die das Potenzial hat, unsere Art zu kommunizieren, zu arbeiten und zu schaffen tiefgreifend zu verändern. Sie eröffnet neue kreative Freiräume, steigert Effizienz und ermöglicht Innovationen, bringt aber auch ethische und gesellschaftliche Fragen mit sich, die verantwortungsbewusst adressiert werden müssen. Die Zukunft der generativen KI verspricht spannende Entwicklungen, in denen Mensch und Maschine gemeinsam Großes leisten können.\n",
      "\n",
      "\n"
     ]
    }
   ],
   "source": [
    "from docx import Document\n",
    "\n",
    "file_path = r\"C:\\Users\\Sniper\\mcqgen\\data.docx\"  # Achte darauf, nicht ~$data.docx zu verwenden\n",
    "doc = Document(file_path)\n",
    "\n",
    "TEXT = \"\"\n",
    "for para in doc.paragraphs:\n",
    "    TEXT += para.text + \"\\n\"\n",
    "\n",
    "print(TEXT)"
   ]
  },
  {
   "cell_type": "code",
   "execution_count": 28,
   "id": "da2af64e",
   "metadata": {},
   "outputs": [
    {
     "name": "stdout",
     "output_type": "stream",
     "text": [
      "Generative Künstliche Intelligenz – Eine Revolution der Kreativität\n",
      "Einführung\n",
      "Generative Künstliche Intelligenz (KI) ist eine der aufregendsten und dynamischsten Entwicklungen im Bereich der künstlichen Intelligenz. Im Gegensatz zu klassischen KI-Systemen, die vor allem darauf ausgelegt sind, bestehende Informationen zu analysieren, zu erkennen oder vorherzusagen, kann generative KI eigenständig neue Inhalte erzeugen. Diese Inhalte können Texte, Bilder, Musik, Videos oder sogar komplexe 3D-Modelle sein. Die Fähigkeit, kreativ „Neues“ zu schaffen, hat das Potenzial, zahlreiche Branchen grundlegend zu verändern und neue Möglichkeiten in Wissenschaft, Kunst, Unterhaltung und Wirtschaft zu eröffnen.\n",
      "Was ist generative KI?\n",
      "Generative KI bezeichnet Algorithmen und Modelle, die aus einer großen Menge an Trainingsdaten lernen, um daraufhin eigenständig neue Daten zu produzieren, die den gelernten Mustern ähneln. Dabei handelt es sich nicht um reine Kopien, sondern um einzigartige Kreationen, die auf den statistischen Wahrscheinlichkeiten basieren, welche das Modell während des Trainings erlernt hat.\n",
      "Ein klassisches Beispiel für generative KI sind sogenannte Generative Adversarial Networks (GANs), die zwei neuronale Netzwerke gegeneinander antreten lassen: Ein Generator erzeugt neue Daten, während ein Diskriminator versucht zu erkennen, ob diese Daten echt oder vom Generator künstlich erzeugt sind. Durch diesen Wettbewerb verbessern sich beide Netzwerke stetig, was zu erstaunlich realistischen Ergebnissen führt.\n",
      "Neben GANs gibt es auch Modelle wie Transformer-basierte neuronale Netzwerke (z.B. GPT von OpenAI), die vor allem bei der Textgenerierung große Fortschritte erzielen. Sie basieren auf der Fähigkeit, große Textmengen zu verarbeiten und komplexe sprachliche Zusammenhänge zu verstehen und nachzubilden.\n",
      "Anwendungsgebiete der generativen KI\n",
      "1. Textgenerierung\n",
      "Sprachmodelle wie GPT-3 und GPT-4 können menschenähnliche Texte verfassen, die in vielen Bereichen Anwendung finden: von automatisierten Chatbots und virtuellen Assistenten bis hin zu kreativen Texten, wissenschaftlichen Arbeiten oder journalistischen Berichten. Unternehmen nutzen generative KI, um Inhalte für Marketing, Kundenservice und sogar Programmierung zu erzeugen.\n",
      "2. Bild- und Videogenerierung\n",
      "Generative KI kann realistische Bilder erstellen oder bestehende verändern. Tools wie DALL·E, Midjourney oder Stable Diffusion können aus Textbeschreibungen detailreiche Illustrationen oder Fotorealistische Bilder generieren. Das ermöglicht neue Formen der visuellen Gestaltung, beispielsweise in der Werbung, im Design oder bei der Erstellung von Kunstwerken. Auch in der Film- und Spieleindustrie wird generative KI eingesetzt, um virtuelle Welten und Charaktere zu erschaffen.\n",
      "3. Musik- und Audioproduktion\n",
      "KI-Modelle können neue Musikstücke komponieren oder bestehende Stücke analysieren und erweitern. Das eröffnet Möglichkeiten für Musiker und Produzenten, kreative Prozesse zu beschleunigen oder neue Sounds zu entdecken. Ebenso können Sprachsynthese-Modelle Stimmen generieren, die in Hörbüchern, Podcasts oder interaktiven Anwendungen genutzt werden.\n",
      "4. Wissenschaft und Forschung\n",
      "Generative KI unterstützt die Simulation komplexer Systeme und die Erstellung neuer Moleküle für die Medikamentenentwicklung. Durch die schnelle Generierung von Hypothesen oder Visualisierungen kann die Forschung effizienter und innovativer gestaltet werden.\n",
      "Chancen und Vorteile\n",
      "Generative KI eröffnet zahlreiche Chancen:\n",
      "Effizienzsteigerung: Automatisierte Texterstellung, Design oder Datenanalyse sparen Zeit und Kosten.\n",
      "Kreative Unterstützung: Künstler, Designer und Kreative erhalten neue Werkzeuge, die ihre Arbeit inspirieren und erleichtern.\n",
      "Individualisierung: Inhalte können genau auf individuelle Bedürfnisse zugeschnitten werden, beispielsweise personalisierte Werbung oder Lernmaterialien.\n",
      "Innovation: Neue Produkte und Dienstleistungen können durch KI-basierte Kreativität entwickelt werden, die vorher nicht denkbar waren.\n",
      "Herausforderungen und Risiken\n",
      "Trotz der vielen Vorteile bringt generative KI auch Herausforderungen mit sich:\n",
      "Qualität und Kontrolle: Nicht alle generierten Inhalte sind fehlerfrei oder sinnvoll. Menschliche Überprüfung bleibt notwendig.\n",
      "Missbrauchspotenzial: KI kann genutzt werden, um Fake News, Deepfakes oder betrügerische Inhalte zu erzeugen.\n",
      "Ethik und Urheberrecht: Die Frage, wem die generierten Werke gehören und wie geistiges Eigentum geschützt wird, ist komplex.\n",
      "Bias und Diskriminierung: Wenn die Trainingsdaten Vorurteile enthalten, reproduziert die KI diese in den generierten Inhalten.\n",
      "Zukunftsperspektiven\n",
      "Die Entwicklung der generativen KI steht erst am Anfang. Künftige Modelle werden immer leistungsfähiger, flexibler und effizienter. Durch Fortschritte in der Hardware, der Algorithmen und der Datenverfügbarkeit wird die KI noch besser darin, kreative und sinnvolle Inhalte zu erzeugen.\n",
      "Dabei wird der menschliche Faktor weiterhin eine wichtige Rolle spielen: KI wird eher als Partner in kreativen Prozessen dienen als als Ersatz. In Bereichen wie Bildung, Gesundheitswesen, Kunst und Unterhaltung wird die Zusammenarbeit von Mensch und Maschine neue Horizonte öffnen.\n",
      "Fazit\n",
      "Generative Künstliche Intelligenz ist eine transformative Technologie, die das Potenzial hat, unsere Art zu kommunizieren, zu arbeiten und zu schaffen tiefgreifend zu verändern. Sie eröffnet neue kreative Freiräume, steigert Effizienz und ermöglicht Innovationen, bringt aber auch ethische und gesellschaftliche Fragen mit sich, die verantwortungsbewusst adressiert werden müssen. Die Zukunft der generativen KI verspricht spannende Entwicklungen, in denen Mensch und Maschine gemeinsam Großes leisten können.\n",
      "\n",
      "\n"
     ]
    }
   ],
   "source": [
    "print(TEXT)"
   ]
  },
  {
   "cell_type": "code",
   "execution_count": 29,
   "id": "615d1efe",
   "metadata": {},
   "outputs": [
    {
     "data": {
      "text/plain": [
       "'{\"1\": {\"mcq\": \"multiple choice question\", \"options\": {\"a\": \"choice here\", \"b\": \"choice here\", \"c\": \"choice here\", \"d\": \"choice here\"}, \"correct\": \"correct answer\"}, \"2\": {\"mcq\": \"multiple choice question\", \"options\": {\"a\": \"choice here\", \"b\": \"choice here\", \"c\": \"choice here\", \"d\": \"choice here\"}, \"correct\": \"correct answer\"}, \"3\": {\"mcq\": \"multiple choice question\", \"options\": {\"a\": \"choice here\", \"b\": \"choice here\", \"c\": \"choice here\", \"d\": \"choice here\"}, \"correct\": \"correct answer\"}}'"
      ]
     },
     "execution_count": 29,
     "metadata": {},
     "output_type": "execute_result"
    }
   ],
   "source": [
    "# Serialize the Python dictionary into a JSON-formatted string\n",
    "json.dumps(RESPONSE_JSON)"
   ]
  },
  {
   "cell_type": "code",
   "execution_count": 42,
   "id": "0ffede82",
   "metadata": {},
   "outputs": [],
   "source": [
    "NUMBER=20 \n",
    "SUBJECT=\"biology\"\n",
    "TONE=\"simple\""
   ]
  },
  {
   "cell_type": "code",
   "execution_count": 43,
   "id": "50903e7f",
   "metadata": {},
   "outputs": [
    {
     "name": "stdout",
     "output_type": "stream",
     "text": [
      "\n",
      "\n",
      "\u001b[1m> Entering new SequentialChain chain...\u001b[0m\n",
      "\n",
      "\n",
      "\u001b[1m> Entering new LLMChain chain...\u001b[0m\n",
      "Prompt after formatting:\n",
      "\u001b[32;1m\u001b[1;3m\n",
      "Text:Generative Künstliche Intelligenz – Eine Revolution der Kreativität\n",
      "Einführung\n",
      "Generative Künstliche Intelligenz (KI) ist eine der aufregendsten und dynamischsten Entwicklungen im Bereich der künstlichen Intelligenz. Im Gegensatz zu klassischen KI-Systemen, die vor allem darauf ausgelegt sind, bestehende Informationen zu analysieren, zu erkennen oder vorherzusagen, kann generative KI eigenständig neue Inhalte erzeugen. Diese Inhalte können Texte, Bilder, Musik, Videos oder sogar komplexe 3D-Modelle sein. Die Fähigkeit, kreativ „Neues“ zu schaffen, hat das Potenzial, zahlreiche Branchen grundlegend zu verändern und neue Möglichkeiten in Wissenschaft, Kunst, Unterhaltung und Wirtschaft zu eröffnen.\n",
      "Was ist generative KI?\n",
      "Generative KI bezeichnet Algorithmen und Modelle, die aus einer großen Menge an Trainingsdaten lernen, um daraufhin eigenständig neue Daten zu produzieren, die den gelernten Mustern ähneln. Dabei handelt es sich nicht um reine Kopien, sondern um einzigartige Kreationen, die auf den statistischen Wahrscheinlichkeiten basieren, welche das Modell während des Trainings erlernt hat.\n",
      "Ein klassisches Beispiel für generative KI sind sogenannte Generative Adversarial Networks (GANs), die zwei neuronale Netzwerke gegeneinander antreten lassen: Ein Generator erzeugt neue Daten, während ein Diskriminator versucht zu erkennen, ob diese Daten echt oder vom Generator künstlich erzeugt sind. Durch diesen Wettbewerb verbessern sich beide Netzwerke stetig, was zu erstaunlich realistischen Ergebnissen führt.\n",
      "Neben GANs gibt es auch Modelle wie Transformer-basierte neuronale Netzwerke (z.B. GPT von OpenAI), die vor allem bei der Textgenerierung große Fortschritte erzielen. Sie basieren auf der Fähigkeit, große Textmengen zu verarbeiten und komplexe sprachliche Zusammenhänge zu verstehen und nachzubilden.\n",
      "Anwendungsgebiete der generativen KI\n",
      "1. Textgenerierung\n",
      "Sprachmodelle wie GPT-3 und GPT-4 können menschenähnliche Texte verfassen, die in vielen Bereichen Anwendung finden: von automatisierten Chatbots und virtuellen Assistenten bis hin zu kreativen Texten, wissenschaftlichen Arbeiten oder journalistischen Berichten. Unternehmen nutzen generative KI, um Inhalte für Marketing, Kundenservice und sogar Programmierung zu erzeugen.\n",
      "2. Bild- und Videogenerierung\n",
      "Generative KI kann realistische Bilder erstellen oder bestehende verändern. Tools wie DALL·E, Midjourney oder Stable Diffusion können aus Textbeschreibungen detailreiche Illustrationen oder Fotorealistische Bilder generieren. Das ermöglicht neue Formen der visuellen Gestaltung, beispielsweise in der Werbung, im Design oder bei der Erstellung von Kunstwerken. Auch in der Film- und Spieleindustrie wird generative KI eingesetzt, um virtuelle Welten und Charaktere zu erschaffen.\n",
      "3. Musik- und Audioproduktion\n",
      "KI-Modelle können neue Musikstücke komponieren oder bestehende Stücke analysieren und erweitern. Das eröffnet Möglichkeiten für Musiker und Produzenten, kreative Prozesse zu beschleunigen oder neue Sounds zu entdecken. Ebenso können Sprachsynthese-Modelle Stimmen generieren, die in Hörbüchern, Podcasts oder interaktiven Anwendungen genutzt werden.\n",
      "4. Wissenschaft und Forschung\n",
      "Generative KI unterstützt die Simulation komplexer Systeme und die Erstellung neuer Moleküle für die Medikamentenentwicklung. Durch die schnelle Generierung von Hypothesen oder Visualisierungen kann die Forschung effizienter und innovativer gestaltet werden.\n",
      "Chancen und Vorteile\n",
      "Generative KI eröffnet zahlreiche Chancen:\n",
      "Effizienzsteigerung: Automatisierte Texterstellung, Design oder Datenanalyse sparen Zeit und Kosten.\n",
      "Kreative Unterstützung: Künstler, Designer und Kreative erhalten neue Werkzeuge, die ihre Arbeit inspirieren und erleichtern.\n",
      "Individualisierung: Inhalte können genau auf individuelle Bedürfnisse zugeschnitten werden, beispielsweise personalisierte Werbung oder Lernmaterialien.\n",
      "Innovation: Neue Produkte und Dienstleistungen können durch KI-basierte Kreativität entwickelt werden, die vorher nicht denkbar waren.\n",
      "Herausforderungen und Risiken\n",
      "Trotz der vielen Vorteile bringt generative KI auch Herausforderungen mit sich:\n",
      "Qualität und Kontrolle: Nicht alle generierten Inhalte sind fehlerfrei oder sinnvoll. Menschliche Überprüfung bleibt notwendig.\n",
      "Missbrauchspotenzial: KI kann genutzt werden, um Fake News, Deepfakes oder betrügerische Inhalte zu erzeugen.\n",
      "Ethik und Urheberrecht: Die Frage, wem die generierten Werke gehören und wie geistiges Eigentum geschützt wird, ist komplex.\n",
      "Bias und Diskriminierung: Wenn die Trainingsdaten Vorurteile enthalten, reproduziert die KI diese in den generierten Inhalten.\n",
      "Zukunftsperspektiven\n",
      "Die Entwicklung der generativen KI steht erst am Anfang. Künftige Modelle werden immer leistungsfähiger, flexibler und effizienter. Durch Fortschritte in der Hardware, der Algorithmen und der Datenverfügbarkeit wird die KI noch besser darin, kreative und sinnvolle Inhalte zu erzeugen.\n",
      "Dabei wird der menschliche Faktor weiterhin eine wichtige Rolle spielen: KI wird eher als Partner in kreativen Prozessen dienen als als Ersatz. In Bereichen wie Bildung, Gesundheitswesen, Kunst und Unterhaltung wird die Zusammenarbeit von Mensch und Maschine neue Horizonte öffnen.\n",
      "Fazit\n",
      "Generative Künstliche Intelligenz ist eine transformative Technologie, die das Potenzial hat, unsere Art zu kommunizieren, zu arbeiten und zu schaffen tiefgreifend zu verändern. Sie eröffnet neue kreative Freiräume, steigert Effizienz und ermöglicht Innovationen, bringt aber auch ethische und gesellschaftliche Fragen mit sich, die verantwortungsbewusst adressiert werden müssen. Die Zukunft der generativen KI verspricht spannende Entwicklungen, in denen Mensch und Maschine gemeinsam Großes leisten können.\n",
      "\n",
      "\n",
      "You are an expert MCQ maker. Given the above text, it is your job to create a quiz  of 20 multiple choice questions for biology students in simple tone. \n",
      "Make sure the questions are not repeated and check all the questions to be conforming the text as well.\n",
      "Make sure to format your response like  RESPONSE_JSON below  and use it as a guide. Ensure to make 20 MCQs\n",
      "### RESPONSE_JSON\n",
      "{\"1\": {\"mcq\": \"multiple choice question\", \"options\": {\"a\": \"choice here\", \"b\": \"choice here\", \"c\": \"choice here\", \"d\": \"choice here\"}, \"correct\": \"correct answer\"}, \"2\": {\"mcq\": \"multiple choice question\", \"options\": {\"a\": \"choice here\", \"b\": \"choice here\", \"c\": \"choice here\", \"d\": \"choice here\"}, \"correct\": \"correct answer\"}, \"3\": {\"mcq\": \"multiple choice question\", \"options\": {\"a\": \"choice here\", \"b\": \"choice here\", \"c\": \"choice here\", \"d\": \"choice here\"}, \"correct\": \"correct answer\"}}\n",
      "\n",
      "\u001b[0m\n",
      "\n",
      "\u001b[1m> Finished chain.\u001b[0m\n",
      "\n",
      "\n",
      "\u001b[1m> Entering new LLMChain chain...\u001b[0m\n",
      "Prompt after formatting:\n",
      "\u001b[32;1m\u001b[1;3m\n",
      "Text:Generative Künstliche Intelligenz – Eine Revolution der Kreativität\n",
      "Einführung\n",
      "Generative Künstliche Intelligenz (KI) ist eine der aufregendsten und dynamischsten Entwicklungen im Bereich der künstlichen Intelligenz. Im Gegensatz zu klassischen KI-Systemen, die vor allem darauf ausgelegt sind, bestehende Informationen zu analysieren, zu erkennen oder vorherzusagen, kann generative KI eigenständig neue Inhalte erzeugen. Diese Inhalte können Texte, Bilder, Musik, Videos oder sogar komplexe 3D-Modelle sein. Die Fähigkeit, kreativ „Neues“ zu schaffen, hat das Potenzial, zahlreiche Branchen grundlegend zu verändern und neue Möglichkeiten in Wissenschaft, Kunst, Unterhaltung und Wirtschaft zu eröffnen.\n",
      "Was ist generative KI?\n",
      "Generative KI bezeichnet Algorithmen und Modelle, die aus einer großen Menge an Trainingsdaten lernen, um daraufhin eigenständig neue Daten zu produzieren, die den gelernten Mustern ähneln. Dabei handelt es sich nicht um reine Kopien, sondern um einzigartige Kreationen, die auf den statistischen Wahrscheinlichkeiten basieren, welche das Modell während des Trainings erlernt hat.\n",
      "Ein klassisches Beispiel für generative KI sind sogenannte Generative Adversarial Networks (GANs), die zwei neuronale Netzwerke gegeneinander antreten lassen: Ein Generator erzeugt neue Daten, während ein Diskriminator versucht zu erkennen, ob diese Daten echt oder vom Generator künstlich erzeugt sind. Durch diesen Wettbewerb verbessern sich beide Netzwerke stetig, was zu erstaunlich realistischen Ergebnissen führt.\n",
      "Neben GANs gibt es auch Modelle wie Transformer-basierte neuronale Netzwerke (z.B. GPT von OpenAI), die vor allem bei der Textgenerierung große Fortschritte erzielen. Sie basieren auf der Fähigkeit, große Textmengen zu verarbeiten und komplexe sprachliche Zusammenhänge zu verstehen und nachzubilden.\n",
      "Anwendungsgebiete der generativen KI\n",
      "1. Textgenerierung\n",
      "Sprachmodelle wie GPT-3 und GPT-4 können menschenähnliche Texte verfassen, die in vielen Bereichen Anwendung finden: von automatisierten Chatbots und virtuellen Assistenten bis hin zu kreativen Texten, wissenschaftlichen Arbeiten oder journalistischen Berichten. Unternehmen nutzen generative KI, um Inhalte für Marketing, Kundenservice und sogar Programmierung zu erzeugen.\n",
      "2. Bild- und Videogenerierung\n",
      "Generative KI kann realistische Bilder erstellen oder bestehende verändern. Tools wie DALL·E, Midjourney oder Stable Diffusion können aus Textbeschreibungen detailreiche Illustrationen oder Fotorealistische Bilder generieren. Das ermöglicht neue Formen der visuellen Gestaltung, beispielsweise in der Werbung, im Design oder bei der Erstellung von Kunstwerken. Auch in der Film- und Spieleindustrie wird generative KI eingesetzt, um virtuelle Welten und Charaktere zu erschaffen.\n",
      "3. Musik- und Audioproduktion\n",
      "KI-Modelle können neue Musikstücke komponieren oder bestehende Stücke analysieren und erweitern. Das eröffnet Möglichkeiten für Musiker und Produzenten, kreative Prozesse zu beschleunigen oder neue Sounds zu entdecken. Ebenso können Sprachsynthese-Modelle Stimmen generieren, die in Hörbüchern, Podcasts oder interaktiven Anwendungen genutzt werden.\n",
      "4. Wissenschaft und Forschung\n",
      "Generative KI unterstützt die Simulation komplexer Systeme und die Erstellung neuer Moleküle für die Medikamentenentwicklung. Durch die schnelle Generierung von Hypothesen oder Visualisierungen kann die Forschung effizienter und innovativer gestaltet werden.\n",
      "Chancen und Vorteile\n",
      "Generative KI eröffnet zahlreiche Chancen:\n",
      "Effizienzsteigerung: Automatisierte Texterstellung, Design oder Datenanalyse sparen Zeit und Kosten.\n",
      "Kreative Unterstützung: Künstler, Designer und Kreative erhalten neue Werkzeuge, die ihre Arbeit inspirieren und erleichtern.\n",
      "Individualisierung: Inhalte können genau auf individuelle Bedürfnisse zugeschnitten werden, beispielsweise personalisierte Werbung oder Lernmaterialien.\n",
      "Innovation: Neue Produkte und Dienstleistungen können durch KI-basierte Kreativität entwickelt werden, die vorher nicht denkbar waren.\n",
      "Herausforderungen und Risiken\n",
      "Trotz der vielen Vorteile bringt generative KI auch Herausforderungen mit sich:\n",
      "Qualität und Kontrolle: Nicht alle generierten Inhalte sind fehlerfrei oder sinnvoll. Menschliche Überprüfung bleibt notwendig.\n",
      "Missbrauchspotenzial: KI kann genutzt werden, um Fake News, Deepfakes oder betrügerische Inhalte zu erzeugen.\n",
      "Ethik und Urheberrecht: Die Frage, wem die generierten Werke gehören und wie geistiges Eigentum geschützt wird, ist komplex.\n",
      "Bias und Diskriminierung: Wenn die Trainingsdaten Vorurteile enthalten, reproduziert die KI diese in den generierten Inhalten.\n",
      "Zukunftsperspektiven\n",
      "Die Entwicklung der generativen KI steht erst am Anfang. Künftige Modelle werden immer leistungsfähiger, flexibler und effizienter. Durch Fortschritte in der Hardware, der Algorithmen und der Datenverfügbarkeit wird die KI noch besser darin, kreative und sinnvolle Inhalte zu erzeugen.\n",
      "Dabei wird der menschliche Faktor weiterhin eine wichtige Rolle spielen: KI wird eher als Partner in kreativen Prozessen dienen als als Ersatz. In Bereichen wie Bildung, Gesundheitswesen, Kunst und Unterhaltung wird die Zusammenarbeit von Mensch und Maschine neue Horizonte öffnen.\n",
      "Fazit\n",
      "Generative Künstliche Intelligenz ist eine transformative Technologie, die das Potenzial hat, unsere Art zu kommunizieren, zu arbeiten und zu schaffen tiefgreifend zu verändern. Sie eröffnet neue kreative Freiräume, steigert Effizienz und ermöglicht Innovationen, bringt aber auch ethische und gesellschaftliche Fragen mit sich, die verantwortungsbewusst adressiert werden müssen. Die Zukunft der generativen KI verspricht spannende Entwicklungen, in denen Mensch und Maschine gemeinsam Großes leisten können.\n",
      "\n",
      "\n",
      "You are an expert MCQ maker. Given the above text, it is your job to create a quiz  of 20 multiple choice questions for biology students in simple tone. \n",
      "Make sure the questions are not repeated and check all the questions to be conforming the text as well.\n",
      "Make sure to format your response like  RESPONSE_JSON below  and use it as a guide. Ensure to make 20 MCQs\n",
      "### RESPONSE_JSON\n",
      "{\"1\": {\"mcq\": \"multiple choice question\", \"options\": {\"a\": \"choice here\", \"b\": \"choice here\", \"c\": \"choice here\", \"d\": \"choice here\"}, \"correct\": \"correct answer\"}, \"2\": {\"mcq\": \"multiple choice question\", \"options\": {\"a\": \"choice here\", \"b\": \"choice here\", \"c\": \"choice here\", \"d\": \"choice here\"}, \"correct\": \"correct answer\"}, \"3\": {\"mcq\": \"multiple choice question\", \"options\": {\"a\": \"choice here\", \"b\": \"choice here\", \"c\": \"choice here\", \"d\": \"choice here\"}, \"correct\": \"correct answer\"}}\n",
      "\n",
      "\u001b[0m\n",
      "\n",
      "\u001b[1m> Finished chain.\u001b[0m\n",
      "\n",
      "\u001b[1m> Finished chain.\u001b[0m\n"
     ]
    }
   ],
   "source": [
    "#https://python.langchain.com/docs/modules/model_io/llms/token_usage_tracking\n",
    "\n",
    "#How to setup Token Usage Tracking in LangChain\n",
    "with get_openai_callback() as cb:\n",
    "    response=generate_evaluate_chain(\n",
    "        {\n",
    "            \"text\": TEXT,\n",
    "            \"number\": NUMBER,\n",
    "            \"subject\":SUBJECT,\n",
    "            \"tone\": TONE,\n",
    "            \"response_json\": json.dumps(RESPONSE_JSON)\n",
    "        }\n",
    "        )"
   ]
  },
  {
   "cell_type": "code",
   "execution_count": 44,
   "id": "41f05b06",
   "metadata": {},
   "outputs": [
    {
     "name": "stdout",
     "output_type": "stream",
     "text": [
      "Total Tokens:6733\n",
      "Prompt Tokens:3554\n",
      "Completion Tokens:3179\n",
      "Total Cost:0.011689\n"
     ]
    }
   ],
   "source": [
    "print(f\"Total Tokens:{cb.total_tokens}\")\n",
    "print(f\"Prompt Tokens:{cb.prompt_tokens}\")\n",
    "print(f\"Completion Tokens:{cb.completion_tokens}\")\n",
    "print(f\"Total Cost:{cb.total_cost}\")"
   ]
  },
  {
   "cell_type": "code",
   "execution_count": 45,
   "id": "efff4a83",
   "metadata": {},
   "outputs": [
    {
     "data": {
      "text/plain": [
       "{'text': 'Generative Künstliche Intelligenz – Eine Revolution der Kreativität\\nEinführung\\nGenerative Künstliche Intelligenz (KI) ist eine der aufregendsten und dynamischsten Entwicklungen im Bereich der künstlichen Intelligenz. Im Gegensatz zu klassischen KI-Systemen, die vor allem darauf ausgelegt sind, bestehende Informationen zu analysieren, zu erkennen oder vorherzusagen, kann generative KI eigenständig neue Inhalte erzeugen. Diese Inhalte können Texte, Bilder, Musik, Videos oder sogar komplexe 3D-Modelle sein. Die Fähigkeit, kreativ „Neues“ zu schaffen, hat das Potenzial, zahlreiche Branchen grundlegend zu verändern und neue Möglichkeiten in Wissenschaft, Kunst, Unterhaltung und Wirtschaft zu eröffnen.\\nWas ist generative KI?\\nGenerative KI bezeichnet Algorithmen und Modelle, die aus einer großen Menge an Trainingsdaten lernen, um daraufhin eigenständig neue Daten zu produzieren, die den gelernten Mustern ähneln. Dabei handelt es sich nicht um reine Kopien, sondern um einzigartige Kreationen, die auf den statistischen Wahrscheinlichkeiten basieren, welche das Modell während des Trainings erlernt hat.\\nEin klassisches Beispiel für generative KI sind sogenannte Generative Adversarial Networks (GANs), die zwei neuronale Netzwerke gegeneinander antreten lassen: Ein Generator erzeugt neue Daten, während ein Diskriminator versucht zu erkennen, ob diese Daten echt oder vom Generator künstlich erzeugt sind. Durch diesen Wettbewerb verbessern sich beide Netzwerke stetig, was zu erstaunlich realistischen Ergebnissen führt.\\nNeben GANs gibt es auch Modelle wie Transformer-basierte neuronale Netzwerke (z.B. GPT von OpenAI), die vor allem bei der Textgenerierung große Fortschritte erzielen. Sie basieren auf der Fähigkeit, große Textmengen zu verarbeiten und komplexe sprachliche Zusammenhänge zu verstehen und nachzubilden.\\nAnwendungsgebiete der generativen KI\\n1. Textgenerierung\\nSprachmodelle wie GPT-3 und GPT-4 können menschenähnliche Texte verfassen, die in vielen Bereichen Anwendung finden: von automatisierten Chatbots und virtuellen Assistenten bis hin zu kreativen Texten, wissenschaftlichen Arbeiten oder journalistischen Berichten. Unternehmen nutzen generative KI, um Inhalte für Marketing, Kundenservice und sogar Programmierung zu erzeugen.\\n2. Bild- und Videogenerierung\\nGenerative KI kann realistische Bilder erstellen oder bestehende verändern. Tools wie DALL·E, Midjourney oder Stable Diffusion können aus Textbeschreibungen detailreiche Illustrationen oder Fotorealistische Bilder generieren. Das ermöglicht neue Formen der visuellen Gestaltung, beispielsweise in der Werbung, im Design oder bei der Erstellung von Kunstwerken. Auch in der Film- und Spieleindustrie wird generative KI eingesetzt, um virtuelle Welten und Charaktere zu erschaffen.\\n3. Musik- und Audioproduktion\\nKI-Modelle können neue Musikstücke komponieren oder bestehende Stücke analysieren und erweitern. Das eröffnet Möglichkeiten für Musiker und Produzenten, kreative Prozesse zu beschleunigen oder neue Sounds zu entdecken. Ebenso können Sprachsynthese-Modelle Stimmen generieren, die in Hörbüchern, Podcasts oder interaktiven Anwendungen genutzt werden.\\n4. Wissenschaft und Forschung\\nGenerative KI unterstützt die Simulation komplexer Systeme und die Erstellung neuer Moleküle für die Medikamentenentwicklung. Durch die schnelle Generierung von Hypothesen oder Visualisierungen kann die Forschung effizienter und innovativer gestaltet werden.\\nChancen und Vorteile\\nGenerative KI eröffnet zahlreiche Chancen:\\nEffizienzsteigerung: Automatisierte Texterstellung, Design oder Datenanalyse sparen Zeit und Kosten.\\nKreative Unterstützung: Künstler, Designer und Kreative erhalten neue Werkzeuge, die ihre Arbeit inspirieren und erleichtern.\\nIndividualisierung: Inhalte können genau auf individuelle Bedürfnisse zugeschnitten werden, beispielsweise personalisierte Werbung oder Lernmaterialien.\\nInnovation: Neue Produkte und Dienstleistungen können durch KI-basierte Kreativität entwickelt werden, die vorher nicht denkbar waren.\\nHerausforderungen und Risiken\\nTrotz der vielen Vorteile bringt generative KI auch Herausforderungen mit sich:\\nQualität und Kontrolle: Nicht alle generierten Inhalte sind fehlerfrei oder sinnvoll. Menschliche Überprüfung bleibt notwendig.\\nMissbrauchspotenzial: KI kann genutzt werden, um Fake News, Deepfakes oder betrügerische Inhalte zu erzeugen.\\nEthik und Urheberrecht: Die Frage, wem die generierten Werke gehören und wie geistiges Eigentum geschützt wird, ist komplex.\\nBias und Diskriminierung: Wenn die Trainingsdaten Vorurteile enthalten, reproduziert die KI diese in den generierten Inhalten.\\nZukunftsperspektiven\\nDie Entwicklung der generativen KI steht erst am Anfang. Künftige Modelle werden immer leistungsfähiger, flexibler und effizienter. Durch Fortschritte in der Hardware, der Algorithmen und der Datenverfügbarkeit wird die KI noch besser darin, kreative und sinnvolle Inhalte zu erzeugen.\\nDabei wird der menschliche Faktor weiterhin eine wichtige Rolle spielen: KI wird eher als Partner in kreativen Prozessen dienen als als Ersatz. In Bereichen wie Bildung, Gesundheitswesen, Kunst und Unterhaltung wird die Zusammenarbeit von Mensch und Maschine neue Horizonte öffnen.\\nFazit\\nGenerative Künstliche Intelligenz ist eine transformative Technologie, die das Potenzial hat, unsere Art zu kommunizieren, zu arbeiten und zu schaffen tiefgreifend zu verändern. Sie eröffnet neue kreative Freiräume, steigert Effizienz und ermöglicht Innovationen, bringt aber auch ethische und gesellschaftliche Fragen mit sich, die verantwortungsbewusst adressiert werden müssen. Die Zukunft der generativen KI verspricht spannende Entwicklungen, in denen Mensch und Maschine gemeinsam Großes leisten können.\\n\\n',\n",
       " 'number': 20,\n",
       " 'subject': 'biology',\n",
       " 'tone': 'simple',\n",
       " 'response_json': '{\"1\": {\"mcq\": \"multiple choice question\", \"options\": {\"a\": \"choice here\", \"b\": \"choice here\", \"c\": \"choice here\", \"d\": \"choice here\"}, \"correct\": \"correct answer\"}, \"2\": {\"mcq\": \"multiple choice question\", \"options\": {\"a\": \"choice here\", \"b\": \"choice here\", \"c\": \"choice here\", \"d\": \"choice here\"}, \"correct\": \"correct answer\"}, \"3\": {\"mcq\": \"multiple choice question\", \"options\": {\"a\": \"choice here\", \"b\": \"choice here\", \"c\": \"choice here\", \"d\": \"choice here\"}, \"correct\": \"correct answer\"}}',\n",
       " 'quiz': '\\n{\\n  \"1\": {\\n    \"mcq\": \"What is generative Artificial Intelligence (AI) primarily focused on?\",\\n    \"options\": {\\n      \"a\": \"Analyzing existing information\",\\n      \"b\": \"Recognizing patterns\",\\n      \"c\": \"Creating new content\",\\n      \"d\": \"Predicting future outcomes\"\\n    },\\n    \"correct\": \"c\"\\n  },\\n  \"2\": {\\n    \"mcq\": \"Which type of neural networks are used in generative AI to generate new data?\",\\n    \"options\": {\\n      \"a\": \"Convolutional Neural Networks (CNN)\",\\n      \"b\": \"Recurrent Neural Networks (RNN)\",\\n      \"c\": \"Generative Adversarial Networks (GANs)\",\\n      \"d\": \"Deep Belief Networks (DBNs)\"\\n    },\\n    \"correct\": \"c\"\\n  },\\n  \"3\": {\\n    \"mcq\": \"What is the main purpose of the Generator in Generative Adversarial Networks (GANs)?\",\\n    \"options\": {\\n      \"a\": \"Recognize real data\",\\n      \"b\": \"Generate new data\",\\n      \"c\": \"Improve the Discriminator\",\\n      \"d\": \"Evaluate the quality of data\"\\n    },\\n    \"correct\": \"b\"\\n  },\\n  \"4\": {\\n    \"mcq\": \"Which type of neural networks have shown significant progress in text generation?\",\\n    \"options\": {\\n      \"a\": \"Convolutional Neural Networks (CNN)\",\\n      \"b\": \"Recurrent Neural Networks (RNN)\",\\n      \"c\": \"Transformer-based neural networks\",\\n      \"d\": \"Deep Belief Networks (DBNs)\"\\n    },\\n    \"correct\": \"c\"\\n  },\\n  \"5\": {\\n    \"mcq\": \"What is one application of generative AI in the field of text generation?\",\\n    \"options\": {\\n      \"a\": \"Creating 3D models\",\\n      \"b\": \"Generating music\",\\n      \"c\": \"Developing scientific simulations\",\\n      \"d\": \"Automated chatbots\"\\n    },\\n    \"correct\": \"d\"\\n  },\\n  \"6\": {\\n    \"mcq\": \"Which tool can generate detailed illustrations from text descriptions?\",\\n    \"options\": {\\n      \"a\": \"DALL·E\",\\n      \"b\": \"Midjourney\",\\n      \"c\": \"Stable Diffusion\",\\n      \"d\": \"Generative Adversarial Networks (GANs)\"\\n    },\\n    \"correct\": \"a\"\\n  },\\n  \"7\": {\\n    \"mcq\": \"In which industry can generative AI be used to create virtual worlds and characters?\",\\n    \"options\": {\\n      \"a\": \"Healthcare\",\\n      \"b\": \"Agriculture\",\\n      \"c\": \"Film and gaming\",\\n      \"d\": \"Construction\"\\n    },\\n    \"correct\": \"c\"\\n  },\\n  \"8\": {\\n    \"mcq\": \"How can generative AI support musicians and producers?\",\\n    \"options\": {\\n      \"a\": \"Generate new music compositions\",\\n      \"b\": \"Analyze existing music\",\\n      \"c\": \"Create visual designs\",\\n      \"d\": \"Develop scientific simulations\"\\n    },\\n    \"correct\": \"a\"\\n  },\\n  \"9\": {\\n    \"mcq\": \"What aspect of research can generative AI enhance?\",\\n    \"options\": {\\n      \"a\": \"Data collection\",\\n      \"b\": \"Hypothesis generation\",\\n      \"c\": \"Participant recruitment\",\\n      \"d\": \"Statistical analysis\"\\n    },\\n    \"correct\": \"b\"\\n  },\\n  \"10\": {\\n    \"mcq\": \"Which of the following is NOT a potential benefit of generative AI?\",\\n    \"options\": {\\n      \"a\": \"Efficiency improvement\",\\n      \"b\": \"Creative support for artists\",\\n      \"c\": \"Increased bias in content\",\\n      \"d\": \"Innovation facilitation\"\\n    },\\n    \"correct\": \"c\"\\n  },\\n  \"11\": {\\n    \"mcq\": \"What is a key challenge associated with generative AI?\",\\n    \"options\": {\\n      \"a\": \"Quality control of generated content\",\\n      \"b\": \"Increased human labor\",\\n      \"c\": \"Reduced creativity\",\\n      \"d\": \"Limited data availability\"\\n    },\\n    \"correct\": \"a\"\\n  },\\n  \"12\": {\\n    \"mcq\": \"How can generative AI be misused?\",\\n    \"options\": {\\n      \"a\": \"Creating fake news\",\\n      \"b\": \"Enhancing data security\",\\n      \"c\": \"Promoting transparency\",\\n      \"d\": \"Improving productivity\"\\n    },\\n    \"correct\": \"a\"\\n  },\\n  \"13\": {\\n    \"mcq\": \"What ethical concern arises from generative AI in relation to ownership of generated works?\",\\n    \"options\": {\\n      \"a\": \"Lack of creativity\",\\n      \"b\": \"Ethical bias\",\\n      \"c\": \"Intellectual property rights\",\\n      \"d\": \"Data privacy concerns\"\\n    },\\n    \"correct\": \"c\"\\n  },\\n  \"14\": {\\n    \"mcq\": \"Why is human collaboration essential in the future of generative AI?\",\\n    \"options\": {\\n      \"a\": \"To slow down technological advancements\",\\n      \"b\": \"To replace human creativity\",\\n      \"c\": \"To enhance the quality of generated content\",\\n      \"d\": \"To eliminate the need for human involvement\"\\n    },\\n    \"correct\": \"c\"\\n  },\\n  \"15\": {\\n    \"mcq\": \"What potential does generative AI hold for the future?\",\\n    \"options\": {\\n      \"a\": \"Limiting creative possibilities\",\\n      \"b\": \"Increasing ethical concerns\",\\n      \"c\": \"Opening new horizons for innovation\",\\n      \"d\": \"Stagnating technological progress\"\\n    },\\n    \"correct\": \"c\"\\n  },\\n  \"16\": {\\n    \"mcq\": \"Which industry can benefit from the collaboration of human and machine in generative AI?\",\\n    \"options\": {\\n      \"a\": \"Agriculture\",\\n      \"b\": \"Construction\",\\n      \"c\": \"Healthcare\",\\n      \"d\": \"Art and entertainment\"\\n    },\\n    \"correct\": \"d\"\\n  },\\n  \"17\": {\\n    \"mcq\": \"What is the primary advantage of using generative AI in content creation?\",\\n    \"options\": {\\n      \"a\": \"Reduced efficiency\",\\n      \"b\": \"Increased bias\",\\n      \"c\": \"Enhanced individualization\",\\n      \"d\": \"Stifled innovation\"\\n    },\\n    \"correct\": \"c\"\\n  },\\n  \"18\": {\\n    \"mcq\": \"What is a potential risk associated with generative AI?\",\\n    \"options\": {\\n      \"a\": \"Quality control improvement\",\\n      \"b\": \"Ethical bias reduction\",\\n      \"c\": \"Reproduction of biases in generated content\",\\n      \"d\": \"Enhanced creativity\"\\n    },\\n    \"correct\": \"c\"\\n  },\\n  \"19\": {\\n    \"mcq\": \"How can generative AI contribute to scientific research?\",\\n    \"options\": {\\n      \"a\": \"Decreasing data availability\",\\n      \"b\": \"Slowing down hypothesis generation\",\\n      \"c\": \"Enhancing visualization and hypothesis generation\",\\n      \"d\": \"Limiting innovation\"\\n    },\\n    \"correct\": \"c\"\\n  },\\n  \"20\": {\\n    \"mcq\": \"What role does generative AI play in the future of creativity?\",\\n    \"options\": {\\n      \"a\": \"Replacing human input\",\\n      \"b\": \"Limiting artistic expression\",\\n      \"c\": \"Serving as a partner in creative processes\",\\n      \"d\": \"Eliminating the need for human involvement\"\\n    },\\n    \"correct\": \"c\"\\n  }\\n}',\n",
       " 'review': '\\n{\\n    \"1\": {\\n        \"mcq\": \"What is generative AI primarily focused on?\",\\n        \"options\": {\\n            \"a\": \"Analyzing existing information\",\\n            \"b\": \"Creating new content\",\\n            \"c\": \"Predicting future trends\",\\n            \"d\": \"Recognizing patterns\"\\n        },\\n        \"correct\": \"b\"\\n    },\\n    \"2\": {\\n        \"mcq\": \"Which type of neural networks are commonly used in generative AI?\",\\n        \"options\": {\\n            \"a\": \"Convolutional Neural Networks\",\\n            \"b\": \"Recurrent Neural Networks\",\\n            \"c\": \"Generative Adversarial Networks\",\\n            \"d\": \"Deep Belief Networks\"\\n        },\\n        \"correct\": \"c\"\\n    },\\n    \"3\": {\\n        \"mcq\": \"What is the main purpose of a Generator in a GAN?\",\\n        \"options\": {\\n            \"a\": \"Recognizing real data\",\\n            \"b\": \"Generating new data\",\\n            \"c\": \"Analyzing patterns\",\\n            \"d\": \"Improving accuracy\"\\n        },\\n        \"correct\": \"b\"\\n    },\\n    \"4\": {\\n        \"mcq\": \"Which field can benefit from generative AI in terms of automated content creation?\",\\n        \"options\": {\\n            \"a\": \"Healthcare\",\\n            \"b\": \"Finance\",\\n            \"c\": \"Marketing\",\\n            \"d\": \"Construction\"\\n        },\\n        \"correct\": \"c\"\\n    },\\n    \"5\": {\\n        \"mcq\": \"What type of content can Generative AI create in the field of design?\",\\n        \"options\": {\\n            \"a\": \"3D models\",\\n            \"b\": \"Musical compositions\",\\n            \"c\": \"Scientific papers\",\\n            \"d\": \"Journalistic reports\"\\n        },\\n        \"correct\": \"a\"\\n    },\\n    \"6\": {\\n        \"mcq\": \"Which tool is known for generating detailed illustrations from text descriptions?\",\\n        \"options\": {\\n            \"a\": \"DALL·E\",\\n            \"b\": \"Midjourney\",\\n            \"c\": \"Stable Diffusion\",\\n            \"d\": \"GPT-3\"\\n        },\\n        \"correct\": \"a\"\\n    },\\n    \"7\": {\\n        \"mcq\": \"How can generative AI benefit the music industry?\",\\n        \"options\": {\\n            \"a\": \"By creating new instruments\",\\n            \"b\": \"By analyzing lyrics\",\\n            \"c\": \"By composing new music\",\\n            \"d\": \"By recording live performances\"\\n        },\\n        \"correct\": \"c\"\\n    },\\n    \"8\": {\\n        \"mcq\": \"What is a potential risk associated with generative AI in terms of content creation?\",\\n        \"options\": {\\n            \"a\": \"Increased efficiency\",\\n            \"b\": \"Ethical concerns\",\\n            \"c\": \"Enhanced collaboration\",\\n            \"d\": \"Improved innovation\"\\n        },\\n        \"correct\": \"b\"\\n    },\\n    \"9\": {\\n        \"mcq\": \"What is one of the challenges of generative AI in terms of content quality?\",\\n        \"options\": {\\n            \"a\": \"Lack of creativity\",\\n            \"b\": \"Human error\",\\n            \"c\": \"Inaccurate data\",\\n            \"d\": \"Mistakes in generated content\"\\n        },\\n        \"correct\": \"d\"\\n    },\\n    \"10\": {\\n        \"mcq\": \"Which industry can benefit from generative AI in terms of personalized content?\",\\n        \"options\": {\\n            \"a\": \"Agriculture\",\\n            \"b\": \"Transportation\",\\n            \"c\": \"Education\",\\n            \"d\": \"Manufacturing\"\\n        },\\n        \"correct\": \"c\"\\n    },\\n    \"11\": {\\n        \"mcq\": \"How can generative AI support scientific research?\",\\n        \"options\": {\\n            \"a\": \"By creating fake data\",\\n            \"b\": \"By simulating complex systems\",\\n            \"c\": \"By manipulating results\",\\n            \"d\": \"By ignoring hypotheses\"\\n        },\\n        \"correct\": \"b\"\\n    },\\n    \"12\": {\\n        \"mcq\": \"What is a key advantage of generative AI in terms of innovation?\",\\n        \"options\": {\\n            \"a\": \"Limiting creativity\",\\n            \"b\": \"Restricting ideas\",\\n            \"c\": \"Encouraging new products\",\\n            \"d\": \"Preventing advancements\"\\n        },\\n        \"correct\": \"c\"\\n    },\\n    \"13\": {\\n        \"mcq\": \"What is a potential misuse of generative AI in terms of content creation?\",\\n        \"options\": {\\n            \"a\": \"Creating authentic news\",\\n            \"b\": \"Producing deepfakes\",\\n            \"c\": \"Enhancing credibility\",\\n            \"d\": \"Improving transparency\"\\n        },\\n        \"correct\": \"b\"\\n    },\\n    \"14\": {\\n        \"mcq\": \"Why is human verification necessary for generated content?\",\\n        \"options\": {\\n            \"a\": \"To slow down the process\",\\n            \"b\": \"To ensure accuracy\",\\n            \"c\": \"To limit creativity\",\\n            \"d\": \"To reduce efficiency\"\\n        },\\n        \"correct\": \"b\"\\n    },\\n    \"15\": {\\n        \"mcq\": \"What is an important consideration regarding the ownership of generated works?\",\\n        \"options\": {\\n            \"a\": \"Irrelevant in generative AI\",\\n            \"b\": \"Complex issue in ethics\",\\n            \"c\": \"Not applicable to AI\",\\n            \"d\": \"Does not matter\"\\n        },\\n        \"correct\": \"b\"\\n    },\\n    \"16\": {\\n        \"mcq\": \"How can generative AI contribute to personalized advertising?\",\\n        \"options\": {\\n            \"a\": \"By creating generic content\",\\n            \"b\": \"By targeting broad audiences\",\\n            \"c\": \"By tailoring ads to individuals\",\\n            \"d\": \"By ignoring consumer preferences\"\\n        },\\n        \"correct\": \"c\"\\n    },\\n    \"17\": {\\n        \"mcq\": \"In what way can generative AI impact the entertainment industry?\",\\n        \"options\": {\\n            \"a\": \"By limiting creativity\",\\n            \"b\": \"By restricting content\",\\n            \"c\": \"By enhancing visual effects\",\\n            \"d\": \"By discouraging innovation\"\\n        },\\n        \"correct\": \"c\"\\n    },\\n    \"18\": {\\n        \"mcq\": \"What role does human collaboration play in the future of generative AI?\",\\n        \"options\": {\\n            \"a\": \"As a replacement for AI\",\\n            \"b\": \"As a hindrance to progress\",\\n            \"c\": \"As a partner in creative processes\",\\n            \"d\": \"As an obstacle to innovation\"\\n        },\\n        \"correct\": \"c\"\\n    },\\n    \"19\": {\\n        \"mcq\": \"What aspect of generative AI requires responsible addressing of ethical issues?\",\\n        \"options\": {\\n            \"a\": \"Innovation potential\",\\n            \"b\": \"Efficiency gains\",\\n            \"c\": \"Societal impact\",\\n            \"d\": \"Collaborative opportunities\"\\n        },\\n        \"correct\": \"c\"\\n    },\\n    \"20\": {\\n        \"mcq\": \"What is a key promise of the future of generative AI?\",\\n        \"options\": {\\n            \"a\": \"Limiting human creativity\",\\n            \"b\": \"Enhancing human-machine collaboration\",\\n            \"c\": \"Preventing technological advancements\",\\n            \"d\": \"Discouraging innovation\"\\n        },\\n        \"correct\": \"b\"\\n    }\\n}'}"
      ]
     },
     "execution_count": 45,
     "metadata": {},
     "output_type": "execute_result"
    }
   ],
   "source": [
    "response"
   ]
  },
  {
   "cell_type": "code",
   "execution_count": 46,
   "id": "cd081b54",
   "metadata": {},
   "outputs": [],
   "source": [
    "quiz=response.get(\"quiz\")"
   ]
  },
  {
   "cell_type": "code",
   "execution_count": 47,
   "id": "94532cda",
   "metadata": {},
   "outputs": [],
   "source": [
    "quiz=json.loads(quiz)"
   ]
  },
  {
   "cell_type": "code",
   "execution_count": 48,
   "id": "2285c359",
   "metadata": {},
   "outputs": [],
   "source": [
    "quiz_table_data = []\n",
    "for key, value in quiz.items():\n",
    "    mcq = value[\"mcq\"]\n",
    "    options = \" | \".join(\n",
    "        [\n",
    "            f\"{option}: {option_value}\"\n",
    "            for option, option_value in value[\"options\"].items()\n",
    "            ]\n",
    "        )\n",
    "    correct = value[\"correct\"]\n",
    "    quiz_table_data.append({\"MCQ\": mcq, \"Choices\": options, \"Correct\": correct})"
   ]
  },
  {
   "cell_type": "code",
   "execution_count": 49,
   "id": "d7622825",
   "metadata": {},
   "outputs": [
    {
     "data": {
      "text/plain": [
       "[{'MCQ': 'What is generative Artificial Intelligence (AI) primarily focused on?',\n",
       "  'Choices': 'a: Analyzing existing information | b: Recognizing patterns | c: Creating new content | d: Predicting future outcomes',\n",
       "  'Correct': 'c'},\n",
       " {'MCQ': 'Which type of neural networks are used in generative AI to generate new data?',\n",
       "  'Choices': 'a: Convolutional Neural Networks (CNN) | b: Recurrent Neural Networks (RNN) | c: Generative Adversarial Networks (GANs) | d: Deep Belief Networks (DBNs)',\n",
       "  'Correct': 'c'},\n",
       " {'MCQ': 'What is the main purpose of the Generator in Generative Adversarial Networks (GANs)?',\n",
       "  'Choices': 'a: Recognize real data | b: Generate new data | c: Improve the Discriminator | d: Evaluate the quality of data',\n",
       "  'Correct': 'b'},\n",
       " {'MCQ': 'Which type of neural networks have shown significant progress in text generation?',\n",
       "  'Choices': 'a: Convolutional Neural Networks (CNN) | b: Recurrent Neural Networks (RNN) | c: Transformer-based neural networks | d: Deep Belief Networks (DBNs)',\n",
       "  'Correct': 'c'},\n",
       " {'MCQ': 'What is one application of generative AI in the field of text generation?',\n",
       "  'Choices': 'a: Creating 3D models | b: Generating music | c: Developing scientific simulations | d: Automated chatbots',\n",
       "  'Correct': 'd'},\n",
       " {'MCQ': 'Which tool can generate detailed illustrations from text descriptions?',\n",
       "  'Choices': 'a: DALL·E | b: Midjourney | c: Stable Diffusion | d: Generative Adversarial Networks (GANs)',\n",
       "  'Correct': 'a'},\n",
       " {'MCQ': 'In which industry can generative AI be used to create virtual worlds and characters?',\n",
       "  'Choices': 'a: Healthcare | b: Agriculture | c: Film and gaming | d: Construction',\n",
       "  'Correct': 'c'},\n",
       " {'MCQ': 'How can generative AI support musicians and producers?',\n",
       "  'Choices': 'a: Generate new music compositions | b: Analyze existing music | c: Create visual designs | d: Develop scientific simulations',\n",
       "  'Correct': 'a'},\n",
       " {'MCQ': 'What aspect of research can generative AI enhance?',\n",
       "  'Choices': 'a: Data collection | b: Hypothesis generation | c: Participant recruitment | d: Statistical analysis',\n",
       "  'Correct': 'b'},\n",
       " {'MCQ': 'Which of the following is NOT a potential benefit of generative AI?',\n",
       "  'Choices': 'a: Efficiency improvement | b: Creative support for artists | c: Increased bias in content | d: Innovation facilitation',\n",
       "  'Correct': 'c'},\n",
       " {'MCQ': 'What is a key challenge associated with generative AI?',\n",
       "  'Choices': 'a: Quality control of generated content | b: Increased human labor | c: Reduced creativity | d: Limited data availability',\n",
       "  'Correct': 'a'},\n",
       " {'MCQ': 'How can generative AI be misused?',\n",
       "  'Choices': 'a: Creating fake news | b: Enhancing data security | c: Promoting transparency | d: Improving productivity',\n",
       "  'Correct': 'a'},\n",
       " {'MCQ': 'What ethical concern arises from generative AI in relation to ownership of generated works?',\n",
       "  'Choices': 'a: Lack of creativity | b: Ethical bias | c: Intellectual property rights | d: Data privacy concerns',\n",
       "  'Correct': 'c'},\n",
       " {'MCQ': 'Why is human collaboration essential in the future of generative AI?',\n",
       "  'Choices': 'a: To slow down technological advancements | b: To replace human creativity | c: To enhance the quality of generated content | d: To eliminate the need for human involvement',\n",
       "  'Correct': 'c'},\n",
       " {'MCQ': 'What potential does generative AI hold for the future?',\n",
       "  'Choices': 'a: Limiting creative possibilities | b: Increasing ethical concerns | c: Opening new horizons for innovation | d: Stagnating technological progress',\n",
       "  'Correct': 'c'},\n",
       " {'MCQ': 'Which industry can benefit from the collaboration of human and machine in generative AI?',\n",
       "  'Choices': 'a: Agriculture | b: Construction | c: Healthcare | d: Art and entertainment',\n",
       "  'Correct': 'd'},\n",
       " {'MCQ': 'What is the primary advantage of using generative AI in content creation?',\n",
       "  'Choices': 'a: Reduced efficiency | b: Increased bias | c: Enhanced individualization | d: Stifled innovation',\n",
       "  'Correct': 'c'},\n",
       " {'MCQ': 'What is a potential risk associated with generative AI?',\n",
       "  'Choices': 'a: Quality control improvement | b: Ethical bias reduction | c: Reproduction of biases in generated content | d: Enhanced creativity',\n",
       "  'Correct': 'c'},\n",
       " {'MCQ': 'How can generative AI contribute to scientific research?',\n",
       "  'Choices': 'a: Decreasing data availability | b: Slowing down hypothesis generation | c: Enhancing visualization and hypothesis generation | d: Limiting innovation',\n",
       "  'Correct': 'c'},\n",
       " {'MCQ': 'What role does generative AI play in the future of creativity?',\n",
       "  'Choices': 'a: Replacing human input | b: Limiting artistic expression | c: Serving as a partner in creative processes | d: Eliminating the need for human involvement',\n",
       "  'Correct': 'c'}]"
      ]
     },
     "execution_count": 49,
     "metadata": {},
     "output_type": "execute_result"
    }
   ],
   "source": [
    "quiz_table_data"
   ]
  },
  {
   "cell_type": "code",
   "execution_count": 55,
   "id": "6ea68097",
   "metadata": {},
   "outputs": [
    {
     "data": {
      "text/html": [
       "<div>\n",
       "<style scoped>\n",
       "    .dataframe tbody tr th:only-of-type {\n",
       "        vertical-align: middle;\n",
       "    }\n",
       "\n",
       "    .dataframe tbody tr th {\n",
       "        vertical-align: top;\n",
       "    }\n",
       "\n",
       "    .dataframe thead th {\n",
       "        text-align: right;\n",
       "    }\n",
       "</style>\n",
       "<table border=\"1\" class=\"dataframe\">\n",
       "  <thead>\n",
       "    <tr style=\"text-align: right;\">\n",
       "      <th></th>\n",
       "      <th>MCQ</th>\n",
       "      <th>Choices</th>\n",
       "      <th>Correct</th>\n",
       "    </tr>\n",
       "  </thead>\n",
       "  <tbody>\n",
       "    <tr>\n",
       "      <th>0</th>\n",
       "      <td>What is generative Artificial Intelligence (AI...</td>\n",
       "      <td>a: Analyzing existing information | b: Recogni...</td>\n",
       "      <td>c</td>\n",
       "    </tr>\n",
       "    <tr>\n",
       "      <th>1</th>\n",
       "      <td>Which type of neural networks are used in gene...</td>\n",
       "      <td>a: Convolutional Neural Networks (CNN) | b: Re...</td>\n",
       "      <td>c</td>\n",
       "    </tr>\n",
       "    <tr>\n",
       "      <th>2</th>\n",
       "      <td>What is the main purpose of the Generator in G...</td>\n",
       "      <td>a: Recognize real data | b: Generate new data ...</td>\n",
       "      <td>b</td>\n",
       "    </tr>\n",
       "    <tr>\n",
       "      <th>3</th>\n",
       "      <td>Which type of neural networks have shown signi...</td>\n",
       "      <td>a: Convolutional Neural Networks (CNN) | b: Re...</td>\n",
       "      <td>c</td>\n",
       "    </tr>\n",
       "    <tr>\n",
       "      <th>4</th>\n",
       "      <td>What is one application of generative AI in th...</td>\n",
       "      <td>a: Creating 3D models | b: Generating music | ...</td>\n",
       "      <td>d</td>\n",
       "    </tr>\n",
       "    <tr>\n",
       "      <th>5</th>\n",
       "      <td>Which tool can generate detailed illustrations...</td>\n",
       "      <td>a: DALL·E | b: Midjourney | c: Stable Diffusio...</td>\n",
       "      <td>a</td>\n",
       "    </tr>\n",
       "    <tr>\n",
       "      <th>6</th>\n",
       "      <td>In which industry can generative AI be used to...</td>\n",
       "      <td>a: Healthcare | b: Agriculture | c: Film and g...</td>\n",
       "      <td>c</td>\n",
       "    </tr>\n",
       "    <tr>\n",
       "      <th>7</th>\n",
       "      <td>How can generative AI support musicians and pr...</td>\n",
       "      <td>a: Generate new music compositions | b: Analyz...</td>\n",
       "      <td>a</td>\n",
       "    </tr>\n",
       "    <tr>\n",
       "      <th>8</th>\n",
       "      <td>What aspect of research can generative AI enha...</td>\n",
       "      <td>a: Data collection | b: Hypothesis generation ...</td>\n",
       "      <td>b</td>\n",
       "    </tr>\n",
       "    <tr>\n",
       "      <th>9</th>\n",
       "      <td>Which of the following is NOT a potential bene...</td>\n",
       "      <td>a: Efficiency improvement | b: Creative suppor...</td>\n",
       "      <td>c</td>\n",
       "    </tr>\n",
       "    <tr>\n",
       "      <th>10</th>\n",
       "      <td>What is a key challenge associated with genera...</td>\n",
       "      <td>a: Quality control of generated content | b: I...</td>\n",
       "      <td>a</td>\n",
       "    </tr>\n",
       "    <tr>\n",
       "      <th>11</th>\n",
       "      <td>How can generative AI be misused?</td>\n",
       "      <td>a: Creating fake news | b: Enhancing data secu...</td>\n",
       "      <td>a</td>\n",
       "    </tr>\n",
       "    <tr>\n",
       "      <th>12</th>\n",
       "      <td>What ethical concern arises from generative AI...</td>\n",
       "      <td>a: Lack of creativity | b: Ethical bias | c: I...</td>\n",
       "      <td>c</td>\n",
       "    </tr>\n",
       "    <tr>\n",
       "      <th>13</th>\n",
       "      <td>Why is human collaboration essential in the fu...</td>\n",
       "      <td>a: To slow down technological advancements | b...</td>\n",
       "      <td>c</td>\n",
       "    </tr>\n",
       "    <tr>\n",
       "      <th>14</th>\n",
       "      <td>What potential does generative AI hold for the...</td>\n",
       "      <td>a: Limiting creative possibilities | b: Increa...</td>\n",
       "      <td>c</td>\n",
       "    </tr>\n",
       "    <tr>\n",
       "      <th>15</th>\n",
       "      <td>Which industry can benefit from the collaborat...</td>\n",
       "      <td>a: Agriculture | b: Construction | c: Healthca...</td>\n",
       "      <td>d</td>\n",
       "    </tr>\n",
       "    <tr>\n",
       "      <th>16</th>\n",
       "      <td>What is the primary advantage of using generat...</td>\n",
       "      <td>a: Reduced efficiency | b: Increased bias | c:...</td>\n",
       "      <td>c</td>\n",
       "    </tr>\n",
       "    <tr>\n",
       "      <th>17</th>\n",
       "      <td>What is a potential risk associated with gener...</td>\n",
       "      <td>a: Quality control improvement | b: Ethical bi...</td>\n",
       "      <td>c</td>\n",
       "    </tr>\n",
       "    <tr>\n",
       "      <th>18</th>\n",
       "      <td>How can generative AI contribute to scientific...</td>\n",
       "      <td>a: Decreasing data availability | b: Slowing d...</td>\n",
       "      <td>c</td>\n",
       "    </tr>\n",
       "    <tr>\n",
       "      <th>19</th>\n",
       "      <td>What role does generative AI play in the futur...</td>\n",
       "      <td>a: Replacing human input | b: Limiting artisti...</td>\n",
       "      <td>c</td>\n",
       "    </tr>\n",
       "  </tbody>\n",
       "</table>\n",
       "</div>"
      ],
      "text/plain": [
       "                                                  MCQ  \\\n",
       "0   What is generative Artificial Intelligence (AI...   \n",
       "1   Which type of neural networks are used in gene...   \n",
       "2   What is the main purpose of the Generator in G...   \n",
       "3   Which type of neural networks have shown signi...   \n",
       "4   What is one application of generative AI in th...   \n",
       "5   Which tool can generate detailed illustrations...   \n",
       "6   In which industry can generative AI be used to...   \n",
       "7   How can generative AI support musicians and pr...   \n",
       "8   What aspect of research can generative AI enha...   \n",
       "9   Which of the following is NOT a potential bene...   \n",
       "10  What is a key challenge associated with genera...   \n",
       "11                  How can generative AI be misused?   \n",
       "12  What ethical concern arises from generative AI...   \n",
       "13  Why is human collaboration essential in the fu...   \n",
       "14  What potential does generative AI hold for the...   \n",
       "15  Which industry can benefit from the collaborat...   \n",
       "16  What is the primary advantage of using generat...   \n",
       "17  What is a potential risk associated with gener...   \n",
       "18  How can generative AI contribute to scientific...   \n",
       "19  What role does generative AI play in the futur...   \n",
       "\n",
       "                                              Choices Correct  \n",
       "0   a: Analyzing existing information | b: Recogni...       c  \n",
       "1   a: Convolutional Neural Networks (CNN) | b: Re...       c  \n",
       "2   a: Recognize real data | b: Generate new data ...       b  \n",
       "3   a: Convolutional Neural Networks (CNN) | b: Re...       c  \n",
       "4   a: Creating 3D models | b: Generating music | ...       d  \n",
       "5   a: DALL·E | b: Midjourney | c: Stable Diffusio...       a  \n",
       "6   a: Healthcare | b: Agriculture | c: Film and g...       c  \n",
       "7   a: Generate new music compositions | b: Analyz...       a  \n",
       "8   a: Data collection | b: Hypothesis generation ...       b  \n",
       "9   a: Efficiency improvement | b: Creative suppor...       c  \n",
       "10  a: Quality control of generated content | b: I...       a  \n",
       "11  a: Creating fake news | b: Enhancing data secu...       a  \n",
       "12  a: Lack of creativity | b: Ethical bias | c: I...       c  \n",
       "13  a: To slow down technological advancements | b...       c  \n",
       "14  a: Limiting creative possibilities | b: Increa...       c  \n",
       "15  a: Agriculture | b: Construction | c: Healthca...       d  \n",
       "16  a: Reduced efficiency | b: Increased bias | c:...       c  \n",
       "17  a: Quality control improvement | b: Ethical bi...       c  \n",
       "18  a: Decreasing data availability | b: Slowing d...       c  \n",
       "19  a: Replacing human input | b: Limiting artisti...       c  "
      ]
     },
     "execution_count": 55,
     "metadata": {},
     "output_type": "execute_result"
    }
   ],
   "source": [
    "pd.DataFrame(quiz_table_data)\n"
   ]
  },
  {
   "cell_type": "code",
   "execution_count": 56,
   "id": "5db6eac7",
   "metadata": {},
   "outputs": [],
   "source": [
    "quiz=pd.DataFrame(quiz_table_data)"
   ]
  },
  {
   "cell_type": "code",
   "execution_count": 57,
   "id": "c18ab563",
   "metadata": {},
   "outputs": [],
   "source": [
    "\n",
    "quiz.to_csv(\"Generative AI.csv\",index=False)"
   ]
  },
  {
   "cell_type": "code",
   "execution_count": 40,
   "id": "137b542f",
   "metadata": {},
   "outputs": [
    {
     "data": {
      "text/plain": [
       "'07_11_2025_23_52_18'"
      ]
     },
     "execution_count": 40,
     "metadata": {},
     "output_type": "execute_result"
    }
   ],
   "source": [
    "from datetime import datetime\n",
    "datetime.now().strftime('%m_%d_%Y_%H_%M_%S')"
   ]
  },
  {
   "cell_type": "code",
   "execution_count": null,
   "id": "c44b1805",
   "metadata": {},
   "outputs": [],
   "source": []
  },
  {
   "cell_type": "code",
   "execution_count": null,
   "id": "dbf9ea11",
   "metadata": {},
   "outputs": [],
   "source": []
  },
  {
   "cell_type": "code",
   "execution_count": null,
   "id": "3680caae",
   "metadata": {},
   "outputs": [],
   "source": []
  },
  {
   "cell_type": "code",
   "execution_count": null,
   "id": "4fc95425",
   "metadata": {},
   "outputs": [],
   "source": []
  },
  {
   "cell_type": "code",
   "execution_count": null,
   "id": "5f77d878",
   "metadata": {},
   "outputs": [],
   "source": []
  },
  {
   "cell_type": "code",
   "execution_count": null,
   "id": "66f3b50d",
   "metadata": {},
   "outputs": [],
   "source": []
  }
 ],
 "metadata": {
  "kernelspec": {
   "display_name": "Python 3",
   "language": "python",
   "name": "python3"
  },
  "language_info": {
   "codemirror_mode": {
    "name": "ipython",
    "version": 3
   },
   "file_extension": ".py",
   "mimetype": "text/x-python",
   "name": "python",
   "nbconvert_exporter": "python",
   "pygments_lexer": "ipython3",
   "version": "3.11.13"
  }
 },
 "nbformat": 4,
 "nbformat_minor": 5
}
